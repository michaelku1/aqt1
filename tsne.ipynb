{
 "cells": [
  {
   "cell_type": "code",
   "execution_count": 117,
   "id": "12a430de",
   "metadata": {},
   "outputs": [
    {
     "data": {
      "text/plain": [
       "<module 'models' from '/scratch2/users/cku/adaptation/AQT_subset/models/__init__.py'>"
      ]
     },
     "execution_count": 117,
     "metadata": {},
     "output_type": "execute_result"
    }
   ],
   "source": [
    "#Import numpy\n",
    "import numpy as np\n",
    "\n",
    "#Import scikitlearn for machine learning functionalities\n",
    "import sklearn\n",
    "from sklearn.manifold import TSNE\n",
    "from sklearn.datasets import load_digits # For the UCI ML handwritten digits dataset\n",
    "\n",
    "# Import matplotlib for plotting graphs ans seaborn for attractive graphics.\n",
    "import matplotlib\n",
    "import matplotlib.pyplot as plt\n",
    "import matplotlib.patheffects as pe\n",
    "%matplotlib inline\n",
    "\n",
    "import seaborn as sb\n",
    "\n",
    "import importlib\n",
    "import os\n",
    "os.environ['CUDA_VISIBLE_DEVICES']='4'\n",
    "\n",
    "import argparse\n",
    "import datetime\n",
    "import json\n",
    "import random\n",
    "import time\n",
    "from pathlib import Path\n",
    "\n",
    "import numpy as np\n",
    "import torch\n",
    "from torch import nn\n",
    "from torch.utils.data import DataLoader\n",
    "import datasets\n",
    "import datasets.DAOD as DAOD\n",
    "import util.misc as utils\n",
    "import datasets.samplers as samplers\n",
    "from datasets import build_dataset, get_coco_api_from_dataset\n",
    "from engine import evaluate, train_one_epoch\n",
    "import models\n",
    "from models import build_model\n",
    "\n",
    "from config import get_cfg_defaults\n",
    "from tqdm import tqdm\n",
    "\n",
    "importlib.reload(models) # reload folder"
   ]
  },
  {
   "cell_type": "markdown",
   "id": "676c638f",
   "metadata": {},
   "source": [
    "##  config set up"
   ]
  },
  {
   "cell_type": "code",
   "execution_count": 118,
   "id": "d8c29c03",
   "metadata": {},
   "outputs": [],
   "source": [
    "# best way is to modify all args to manual parameter\n",
    "\n",
    "def setup(config_file):\n",
    "    # initialise cfg from both defualt and the one defined by file\n",
    "    cfg = get_cfg_defaults()\n",
    "    \n",
    "    if config_file:\n",
    "        cfg.merge_from_file(config_file)\n",
    "#     if opts:\n",
    "#         cfg.merge_from_list(args.opts)\n",
    "    utils.init_distributed_mode(cfg)\n",
    "    cfg.freeze()\n",
    "    \n",
    "    # copy scripts to a specified dest\n",
    "    if cfg.OUTPUT_DIR:\n",
    "        Path(cfg.OUTPUT_DIR).mkdir(parents=True, exist_ok=True)\n",
    "        os.system(f'cp {config_file} {cfg.OUTPUT_DIR}')\n",
    "        ddetr_src = 'models/deformable_detr.py'\n",
    "        ddetr_des = Path(cfg.OUTPUT_DIR) / 'deformable_detr.py.backup'\n",
    "        dtrans_src = 'models/deformable_transformer.py'\n",
    "        dtrans_des = Path(cfg.OUTPUT_DIR) / 'deformable_transformer.py.backup'\n",
    "        main_src = 'main.py'\n",
    "        main_des = Path(cfg.OUTPUT_DIR) / 'main.py.backup'\n",
    "        os.system(f'cp {ddetr_src} {ddetr_des}')\n",
    "        os.system(f'cp {dtrans_src} {dtrans_des}')\n",
    "        os.system(f'cp {main_src} {main_des}')\n",
    "\n",
    "    return cfg\n",
    "\n",
    "# write a name matching function, if names match named_params \n",
    "def match_name_keywords(n, name_keywords):\n",
    "    out = False\n",
    "    for b in name_keywords:\n",
    "        if b in n:\n",
    "            out = True\n",
    "            break\n",
    "    return out"
   ]
  },
  {
   "cell_type": "code",
   "execution_count": 119,
   "id": "e60e8c29",
   "metadata": {},
   "outputs": [],
   "source": [
    "# config_file = 'configs/r50_uda_c2fc.yaml'\n",
    "config_file = 'configs/contrastive.yaml'"
   ]
  },
  {
   "cell_type": "markdown",
   "id": "f9ac203d",
   "metadata": {},
   "source": [
    "## load config file"
   ]
  },
  {
   "cell_type": "code",
   "execution_count": 120,
   "id": "232e2235",
   "metadata": {},
   "outputs": [
    {
     "name": "stdout",
     "output_type": "stream",
     "text": [
      "Not using distributed mode\n"
     ]
    }
   ],
   "source": [
    "cfg = setup(config_file)\n",
    "# device\n",
    "device = torch.device(cfg.DEVICE)\n",
    "\n",
    "# fix the seed for reproducibility\n",
    "seed = cfg.SEED + utils.get_rank()\n",
    "torch.manual_seed(seed)\n",
    "np.random.seed(seed)\n",
    "random.seed(seed)\n",
    "torch.cuda.manual_seed(seed)\n",
    "torch.cuda.manual_seed_all(seed)\n",
    "torch.backends.cudnn.benchmark = False\n",
    "torch.backends.cudnn.deterministic = True"
   ]
  },
  {
   "cell_type": "code",
   "execution_count": 121,
   "id": "ef46c5a0",
   "metadata": {},
   "outputs": [
    {
     "data": {
      "text/plain": [
       "True"
      ]
     },
     "execution_count": 121,
     "metadata": {},
     "output_type": "execute_result"
    }
   ],
   "source": [
    "cfg.DEBUG # check debug mode"
   ]
  },
  {
   "cell_type": "code",
   "execution_count": 122,
   "id": "aea18869",
   "metadata": {},
   "outputs": [
    {
     "data": {
      "text/plain": [
       "(2, 4)"
      ]
     },
     "execution_count": 122,
     "metadata": {},
     "output_type": "execute_result"
    }
   ],
   "source": [
    "cfg.TRAIN.BATCH_SIZE, cfg.DATASET.NUM_CLASSES"
   ]
  },
  {
   "cell_type": "markdown",
   "id": "e95373cc",
   "metadata": {},
   "source": [
    "## build model"
   ]
  },
  {
   "cell_type": "code",
   "execution_count": 123,
   "id": "c821f94b",
   "metadata": {},
   "outputs": [],
   "source": [
    "# build model\n",
    "model, criterion, postprocessors, postprocessors_target = build_model(cfg)\n",
    "model.to(device)\n",
    "model_without_ddp = model\n",
    "\n",
    "n_parameters = sum(p.numel() for p in model.parameters() if p.requires_grad)"
   ]
  },
  {
   "cell_type": "code",
   "execution_count": 111,
   "id": "2e7328a0",
   "metadata": {},
   "outputs": [],
   "source": [
    "# for param in model_without_ddp.transformer.decoder.layers[0].parameters():\n",
    "#     print(param.shape)"
   ]
  },
  {
   "cell_type": "code",
   "execution_count": 112,
   "id": "ccdc9a6d",
   "metadata": {},
   "outputs": [],
   "source": [
    "# model_without_ddp.transformer.decoder.layers.parameters()"
   ]
  },
  {
   "cell_type": "markdown",
   "id": "94b1123e",
   "metadata": {},
   "source": [
    "## build data loader"
   ]
  },
  {
   "cell_type": "code",
   "execution_count": 124,
   "id": "3de3fc3d",
   "metadata": {},
   "outputs": [
    {
     "name": "stdout",
     "output_type": "stream",
     "text": [
      "loading annotations into memory...\n",
      "Done (t=0.44s)\n",
      "creating index...\n",
      "index created!\n"
     ]
    }
   ],
   "source": [
    "# build coco detection dataset\n",
    "dataset_val = build_dataset(image_set='val', cfg=cfg)\n",
    "\n",
    "if cfg.DIST.DISTRIBUTED:\n",
    "    if cfg.CACHE_MODE:\n",
    "        sampler_val = samplers.NodeDistributedSampler(dataset_val, shuffle=False)\n",
    "    else:\n",
    "        sampler_val = samplers.DistributedSampler(dataset_val, shuffle=False)\n",
    "else:\n",
    "    sampler_val = torch.utils.data.SequentialSampler(dataset_val)\n",
    "    \n",
    "# the valid dataloder uses a sequential sampler\n",
    "data_loader_val = DataLoader(dataset_val, cfg.TRAIN.BATCH_SIZE, sampler=sampler_val,\n",
    "                             drop_last=False, collate_fn=utils.collate_fn, num_workers=cfg.NUM_WORKERS,\n",
    "                             pin_memory=True)"
   ]
  },
  {
   "cell_type": "markdown",
   "id": "11f99548",
   "metadata": {},
   "source": [
    "## model paths"
   ]
  },
  {
   "cell_type": "code",
   "execution_count": 127,
   "id": "efd0f384",
   "metadata": {},
   "outputs": [],
   "source": [
    "# model_path = 'exps/single_class/baseline/checkpoint0149.pth'\n",
    "# model_path = 'exps/contrastive_subset/from_scratch_bs2/checkpoint0149.pth'\n",
    "model_path = 'exps/contrastive_subset/all_class_contrastive/checkpoint0149.pth'\n",
    "# model_path = 'exps/contrastive_subset/from_scratch_bs2/checkpoint0099.pth'\n",
    "# model_path = \"exps/contrastive_subset/bs2_resume_39/checkpoint0099.pth\""
   ]
  },
  {
   "cell_type": "code",
   "execution_count": 128,
   "id": "c6353120",
   "metadata": {
    "scrolled": true
   },
   "outputs": [
    {
     "data": {
      "text/plain": [
       "<All keys matched successfully>"
      ]
     },
     "execution_count": 128,
     "metadata": {},
     "output_type": "execute_result"
    }
   ],
   "source": [
    "# load model weights\n",
    "checkpoint = torch.load(model_path, map_location='cpu')\n",
    "model_without_ddp.load_state_dict(checkpoint['model'], strict=False)"
   ]
  },
  {
   "cell_type": "markdown",
   "id": "66855d53",
   "metadata": {},
   "source": [
    "## decoder embeddings"
   ]
  },
  {
   "cell_type": "code",
   "execution_count": 129,
   "id": "d73a9044",
   "metadata": {},
   "outputs": [],
   "source": [
    "# get batch index and query index\n",
    "def _get_src_permutation_idx(indices):\n",
    "    # permute predictions following indices\n",
    "    batch_idx = torch.cat([torch.full_like(src, i) for i, (src, _) in enumerate(indices)])\n",
    "    src_idx = torch.cat([src for (src, _) in indices])\n",
    "    return batch_idx, src_idx\n",
    "\n",
    "def _get_tgt_permutation_idx(indices):\n",
    "    # permute targets following indices\n",
    "    batch_idx = torch.cat([torch.full_like(tgt, i) for i, (_, tgt) in enumerate(indices)])\n",
    "    tgt_idx = torch.cat([tgt for (_, tgt) in indices])\n",
    "    return batch_idx, tgt_idx"
   ]
  },
  {
   "cell_type": "code",
   "execution_count": 130,
   "id": "8f52c965",
   "metadata": {},
   "outputs": [
    {
     "data": {
      "text/plain": [
       "\"[{'id': 1, 'name': 'person'},\\n {'id': 2, 'name': 'car'},\\n {'id': 3, 'name': 'train'},\\n {'id': 4, 'name': 'rider'},\\n {'id': 5, 'name': 'truck'},\\n {'id': 6, 'name': 'motorcycle'},\\n {'id': 7, 'name': 'bicycle'},\\n {'id': 8, 'name': 'bus'}]\""
      ]
     },
     "execution_count": 130,
     "metadata": {},
     "output_type": "execute_result"
    }
   ],
   "source": [
    "num_classes = 4\n",
    "\n",
    "\"\"\"[{'id': 1, 'name': 'person'},\n",
    " {'id': 2, 'name': 'car'},\n",
    " {'id': 3, 'name': 'train'},\n",
    " {'id': 4, 'name': 'rider'},\n",
    " {'id': 5, 'name': 'truck'},\n",
    " {'id': 6, 'name': 'motorcycle'},\n",
    " {'id': 7, 'name': 'bicycle'},\n",
    " {'id': 8, 'name': 'bus'}]\"\"\""
   ]
  },
  {
   "cell_type": "markdown",
   "id": "6329f063",
   "metadata": {},
   "source": [
    "## tsne for decoder embeddings in the target domain only (bs=2)"
   ]
  },
  {
   "cell_type": "code",
   "execution_count": 131,
   "id": "c727c447",
   "metadata": {},
   "outputs": [
    {
     "name": "stderr",
     "output_type": "stream",
     "text": [
      "running inference:   0%|                                                                                          | 0/243 [00:00<?, ?it/s]/scratch2/users/cku/adaptation/AQT_subset/models/position_encoding.py:53: UserWarning: __floordiv__ is deprecated, and its behavior will change in a future version of pytorch. It currently rounds toward 0 (like the 'trunc' function NOT 'floor'). This results in incorrect rounding for negative values. To keep the current behavior, use torch.div(a, b, rounding_mode='trunc'), or for actual floor division, use torch.div(a, b, rounding_mode='floor').\n",
      "  dim_t = self.temperature ** (2 * (dim_t // 2) / self.num_pos_feats)\n",
      "running inference: 100%|████████████████████████████████████████████████████████████████████████████████| 243/243 [00:37<00:00,  6.52it/s]\n"
     ]
    }
   ],
   "source": [
    "model.eval() # set to eval mode to get both source and target labels\n",
    "\n",
    "# length of dataloader is 250\n",
    "target_features_1 = []\n",
    "target_features_2 = []\n",
    "target_features_new = []\n",
    "tgt_label_1 = []\n",
    "tgt_label_2 = []\n",
    "tgt_label_new = []\n",
    "\n",
    "# data and labels for inference\n",
    "for samples, targets in tqdm(data_loader_val, desc='running inference'):\n",
    "    samples = samples.to(device)\n",
    "    targets = [{k: v.to(device) for k, v in t.items()} for t in targets]\n",
    "    \n",
    "    outputs = model(samples, targets) # in debug mode, outputs would be a tuple\n",
    "    out, backbone_feat, encoder_out, decoder_out = outputs # decoder_out: torch.Size([6, 2, 300, 256])\n",
    "\n",
    "    loss_dict, indices = criterion(out, targets)\n",
    "\n",
    "    # get matched query gt indices\n",
    "    idx = _get_src_permutation_idx(indices)\n",
    "    target_classes = torch.full((2,300), num_classes,\n",
    "                                dtype=torch.int64, device=out['pred_logits'].device)\n",
    "\n",
    "    \n",
    "    # all class labels across all samples within a batch\n",
    "    target_classes_o = torch.cat([t[\"labels\"][J] for t, (_, J) in zip(targets, indices)])\n",
    "    target_classes[idx] = target_classes_o\n",
    "\n",
    "    # torch.Size([300])\n",
    "    target_label_1 = target_classes[0]\n",
    "    target_label_2 = target_classes[1]\n",
    "#     import pdb; pdb.set_trace()\n",
    "    \n",
    "    # exclude background\n",
    "    tgt_query_pos_1 = torch.where(target_label_1!=num_classes)\n",
    "    tgt_query_pos_2 = torch.where(target_label_2!=num_classes)\n",
    "    \n",
    "    # get list of labels\n",
    "    target_gt_1 = target_label_1[tgt_query_pos_1]\n",
    "    target_gt_2 = target_label_2[tgt_query_pos_2]\n",
    "    \n",
    "    # filter class that has too many data points\n",
    "    target_gt_1_idx = torch.where(target_gt_1!=1)\n",
    "    target_gt_1_new = target_gt_1[target_gt_1_idx]\n",
    "    \n",
    "    # get src query embeddings\n",
    "    target_out_1 = torch.index_select(decoder_out[-1][0], 0, tgt_query_pos_1[0]) #tgt_query_pos_1 is a tuple, thus need to index element\n",
    "    target_out_1_new = torch.index_select(decoder_out[-1][0], 0, target_gt_1_idx[0])\n",
    "    target_out_2 = torch.index_select(decoder_out[-1][0], 0, tgt_query_pos_2[0]) # selected query outputs\n",
    "\n",
    "    # accumulate for all samples\n",
    "    target_features_1.extend(target_out_1.cpu().detach().numpy())\n",
    "    target_features_new.extend(target_out_1_new.cpu().detach().numpy())\n",
    "    target_features_2.extend(target_out_2.cpu().detach().numpy())\n",
    "    \n",
    "    # accumulate for all samples\n",
    "    tgt_label_1.extend(target_gt_1.cpu().detach().numpy())\n",
    "    tgt_label_2.extend(target_gt_2.cpu().detach().numpy())\n",
    "    tgt_label_new.extend(target_gt_1_new.cpu().detach().numpy())\n",
    "\n",
    "target_features_1 = np.stack(target_features_1)\n",
    "target_features_2 = np.stack(target_features_2)\n",
    "target_features_new = np.stack(target_features_new)\n",
    "tgt_label_1 = np.stack(tgt_label_1)\n",
    "tgt_label_2 = np.stack(tgt_label_2)\n",
    "tgt_label_new = np.stack(tgt_label_new)"
   ]
  },
  {
   "cell_type": "code",
   "execution_count": 35,
   "id": "8fc3ef42",
   "metadata": {
    "collapsed": true
   },
   "outputs": [
    {
     "data": {
      "text/plain": [
       "(2326, 2317)"
      ]
     },
     "execution_count": 35,
     "metadata": {},
     "output_type": "execute_result"
    }
   ],
   "source": [
    "# obtained features and labels\n",
    "target_features_1[0].shape, target_features_2[0].shape\n",
    "len(target_features_1), len(target_features_2)"
   ]
  },
  {
   "cell_type": "code",
   "execution_count": 136,
   "id": "c89431ad",
   "metadata": {},
   "outputs": [
    {
     "data": {
      "text/plain": [
       "(2586, 2586, 2556, 2556)"
      ]
     },
     "execution_count": 136,
     "metadata": {},
     "output_type": "execute_result"
    }
   ],
   "source": [
    "from itertools import groupby\n",
    "\n",
    "# check lengths\n",
    "sum([len(list(group)) for key, group in groupby(sorted(tgt_label_1))])\n",
    "len([len(list(group)) for key, group in groupby(sorted(tgt_label_1))])\n",
    "len(target_features_1), len(tgt_label_1), len(target_features_2), len(tgt_label_2)"
   ]
  },
  {
   "cell_type": "code",
   "execution_count": 137,
   "id": "283502fa",
   "metadata": {},
   "outputs": [
    {
     "data": {
      "text/plain": [
       "[2254, 284, 48]"
      ]
     },
     "execution_count": 137,
     "metadata": {},
     "output_type": "execute_result"
    }
   ],
   "source": [
    "[len(list(group)) for key, group in groupby(sorted(tgt_label_1))]"
   ]
  },
  {
   "cell_type": "code",
   "execution_count": 53,
   "id": "db536b0a",
   "metadata": {},
   "outputs": [
    {
     "name": "stdout",
     "output_type": "stream",
     "text": [
      "<itertools._grouper object at 0x7f06cd2e25e0>\n",
      "2262\n",
      "<itertools._grouper object at 0x7f05c50242b0>\n",
      "15\n",
      "<itertools._grouper object at 0x7f06a5c8ca30>\n",
      "49\n"
     ]
    }
   ],
   "source": [
    "for key, group in groupby(sorted(tgt_label_1)):\n",
    "    print(len(list(group)))"
   ]
  },
  {
   "cell_type": "code",
   "execution_count": 37,
   "id": "1b05d770",
   "metadata": {},
   "outputs": [],
   "source": [
    "# merge prototypes into tsne features\n",
    "# target_features_1 = torch.cat([source_features, prototypes[0]])\n",
    "# target_features_2 = torch.cat([target_features, prototypes[1]])"
   ]
  },
  {
   "cell_type": "code",
   "execution_count": 145,
   "id": "f0ff149a",
   "metadata": {},
   "outputs": [
    {
     "name": "stderr",
     "output_type": "stream",
     "text": [
      "/scratch2/users/cku/anaconda3/envs/deformable_detr/lib/python3.9/site-packages/sklearn/manifold/_t_sne.py:800: FutureWarning: The default initialization in TSNE will change from 'random' to 'pca' in 1.2.\n",
      "  warnings.warn(\n",
      "/scratch2/users/cku/anaconda3/envs/deformable_detr/lib/python3.9/site-packages/sklearn/manifold/_t_sne.py:810: FutureWarning: The default learning rate in TSNE will change from 200.0 to 'auto' in 1.2.\n",
      "  warnings.warn(\n"
     ]
    }
   ],
   "source": [
    "# train tsne\n",
    "tsne_tgt_new = TSNE(n_components=2).fit_transform(target_features_new)"
   ]
  },
  {
   "cell_type": "code",
   "execution_count": null,
   "id": "5bf0a027",
   "metadata": {},
   "outputs": [],
   "source": [
    "tsne_tgt_2 = TSNE(n_components=2).fit_transform(target_features_2)"
   ]
  },
  {
   "cell_type": "code",
   "execution_count": 142,
   "id": "cb4b9b77",
   "metadata": {},
   "outputs": [],
   "source": [
    "# scale and move the coordinates so they fit [0; 1] range\n",
    "\n",
    "def scale_to_01_range(x):\n",
    "\n",
    "    # compute the distribution range\n",
    "    value_range = (np.max(x) - np.min(x))\n",
    "\n",
    "   # move the distribution so that it starts from zero\n",
    "   # by extracting the minimal value from all its values\n",
    "    starts_from_zero = x - np.min(x)\n",
    "    # make the distribution fit [0; 1] by dividing by its range\n",
    "\n",
    "    return starts_from_zero / value_range"
   ]
  },
  {
   "cell_type": "markdown",
   "id": "2e9acb28",
   "metadata": {},
   "source": [
    "## tsne on tgt query embeddings"
   ]
  },
  {
   "cell_type": "code",
   "execution_count": 69,
   "id": "f6e89fa1",
   "metadata": {},
   "outputs": [
    {
     "ename": "NameError",
     "evalue": "name 'tsne_tgt_1' is not defined",
     "output_type": "error",
     "traceback": [
      "\u001b[0;31m---------------------------------------------------------------------------\u001b[0m",
      "\u001b[0;31mNameError\u001b[0m                                 Traceback (most recent call last)",
      "Input \u001b[0;32mIn [69]\u001b[0m, in \u001b[0;36m<cell line: 1>\u001b[0;34m()\u001b[0m\n\u001b[0;32m----> 1\u001b[0m \u001b[43mtsne_tgt_1\u001b[49m\u001b[38;5;241m.\u001b[39mshape, tsne_tgt_2\u001b[38;5;241m.\u001b[39mshape\n",
      "\u001b[0;31mNameError\u001b[0m: name 'tsne_tgt_1' is not defined"
     ]
    }
   ],
   "source": [
    "tsne_tgt_1.shape, tsne_tgt_2.shape"
   ]
  },
  {
   "cell_type": "code",
   "execution_count": 70,
   "id": "c459059f",
   "metadata": {},
   "outputs": [
    {
     "data": {
      "text/plain": [
       "(332, 2)"
      ]
     },
     "execution_count": 70,
     "metadata": {},
     "output_type": "execute_result"
    }
   ],
   "source": [
    "tsne_tgt_new.shape"
   ]
  },
  {
   "cell_type": "code",
   "execution_count": 146,
   "id": "dd8db3f7",
   "metadata": {},
   "outputs": [],
   "source": [
    "# get values for x and y\n",
    "tx_tgt = tsne_tgt_new[:, 0]\n",
    "ty_tgt = tsne_tgt_new[:, 1]\n",
    "\n",
    "# scale to range between 0 and 1\n",
    "tx_tgt = scale_to_01_range(tx_tgt)\n",
    "ty_tgt = scale_to_01_range(ty_tgt)"
   ]
  },
  {
   "cell_type": "markdown",
   "id": "6b102924",
   "metadata": {},
   "source": [
    "## baseline"
   ]
  },
  {
   "cell_type": "code",
   "execution_count": 138,
   "id": "a16809e5",
   "metadata": {},
   "outputs": [
    {
     "data": {
      "image/png": "[encoded data removed]",
      "text/plain": [
       "<Figure size 432x288 with 1 Axes>"
      ]
     },
     "metadata": {
      "needs_background": "light"
     },
     "output_type": "display_data"
    }
   ],
   "source": [
    "# define an extra label for prototype tokens\n",
    "# colors_per_class = {'0': 'r', '1': 'g', '2': 'b',\n",
    "#           '3':'c', '4': 'm', '5': 'y',\n",
    "#                     '6':'k', '7':'pink', '8':'w'}\n",
    "\n",
    "\n",
    "colors_per_class = {'1': 'g', '2': 'b'}\n",
    "\n",
    "# fir distinuishing decoder embeddings and prototypes \n",
    "marker = ['*', '^']\n",
    "\n",
    "# need to use a different marker for prototype tokens\n",
    "\n",
    "labels = []\n",
    "\n",
    "# need to know what labels are assigned to each feature in order to plot them\n",
    "fig = plt.figure()\n",
    "ax = fig.add_subplot(111)\n",
    "\n",
    "# plot a cluster one by one\n",
    "for label in colors_per_class:\n",
    "    \n",
    "    if label != '4':\n",
    "        # find all indices of the current label\n",
    "        indices = [i for i, l in enumerate(tgt_label_new) if str(l) == label]\n",
    "        # use the indices of the current label to index the corresponding feature embeddings\n",
    "        current_tx = np.take(tx_tgt, indices)\n",
    "        current_ty = np.take(ty_tgt, indices)\n",
    "    \n",
    "        # add a scatter plot with the corresponding color and label\n",
    "        ax.scatter(current_tx, current_ty, marker=marker[0], c=colors_per_class[label], label=label)\n",
    "    else:\n",
    "        indices = [i for i, l in enumerate(tgt_label_new) if str(l) == label]\n",
    "        # use the indices of the current label to index the corresponding feature embeddings\n",
    "        current_tx = np.take(tx_tgt, indices)\n",
    "        current_ty = np.take(ty_tgt, indices)\n",
    "    \n",
    "        # add a scatter plot with the corresponding color and label\n",
    "        ax.scatter(current_tx, current_ty, marker=marker[1], c=colors_per_class[label], label=label)\n",
    "        \n",
    "\n",
    "    \n",
    "# build a legend using the labels we set previously\n",
    "ax.legend(loc='best')\n",
    "# finally, show the plot\n",
    "plt.show()"
   ]
  },
  {
   "cell_type": "markdown",
   "id": "a96dde8c",
   "metadata": {},
   "source": [
    "## contrastive learning"
   ]
  },
  {
   "cell_type": "code",
   "execution_count": 147,
   "id": "5f190f7a",
   "metadata": {},
   "outputs": [
    {
     "data": {
      "image/png": "[encoded data removed]",
      "text/plain": [
       "<Figure size 432x288 with 1 Axes>"
      ]
     },
     "metadata": {
      "needs_background": "light"
     },
     "output_type": "display_data"
    }
   ],
   "source": [
    "# define an extra label for prototype tokens\n",
    "# colors_per_class = {'0': 'r', '1': 'g', '2': 'b',\n",
    "#           '3':'c', '4': 'm', '5': 'y',\n",
    "#                     '6':'k', '7':'pink', '8':'w'}\n",
    "\n",
    "# specify the actual class labels\n",
    "colors_per_class = {'2': 'b',\n",
    "          '3':'c'}\n",
    "\n",
    "# fir distinuishing decoder embeddings and prototypes \n",
    "marker = ['*', '^']\n",
    "\n",
    "# need to use a different marker for prototype tokens\n",
    "\n",
    "labels = []\n",
    "\n",
    "# need to know what labels are assigned to each feature in order to plot them\n",
    "fig = plt.figure()\n",
    "ax = fig.add_subplot(111)\n",
    "\n",
    "# plot a cluster one by one\n",
    "for label in colors_per_class:\n",
    "    \n",
    "    if label != '4':\n",
    "        # find all indices of the current label\n",
    "        indices = [i for i, l in enumerate(tgt_label_new) if str(l) == label]\n",
    "        # use the indices of the current label to index the corresponding feature embeddings\n",
    "        current_tx = np.take(tx_tgt, indices)\n",
    "        current_ty = np.take(ty_tgt, indices)\n",
    "    \n",
    "        # add a scatter plot with the corresponding color and label\n",
    "        ax.scatter(current_tx, current_ty, marker=marker[0], c=colors_per_class[label], label=label)\n",
    "        \n",
    "# build a legend using the labels we set previously\n",
    "ax.legend(loc='best')\n",
    "# finally, show the plot\n",
    "plt.show()"
   ]
  },
  {
   "cell_type": "code",
   "execution_count": 49,
   "id": "5d6082a9",
   "metadata": {
    "collapsed": true
   },
   "outputs": [
    {
     "data": {
      "image/png": "[encoded data removed]",
      "text/plain": [
       "<Figure size 432x288 with 1 Axes>"
      ]
     },
     "metadata": {
      "needs_background": "light"
     },
     "output_type": "display_data"
    }
   ],
   "source": [
    "# define an extra label for prototype tokens\n",
    "# colors_per_class = {'0': 'r', '1': 'g', '2': 'b',\n",
    "#           '3':'c', '4': 'm', '5': 'y',\n",
    "#                     '6':'k', '7':'pink', '8':'w'}\n",
    "\n",
    "\n",
    "colors_per_class = {'0': 'r', '1': 'g', '2': 'b',\n",
    "          '3':'c'}\n",
    "\n",
    "# fir distinuishing decoder embeddings and prototypes \n",
    "marker = ['^']\n",
    "\n",
    "# need to use a different marker for prototype tokens\n",
    "\n",
    "labels = []\n",
    "\n",
    "# need to know what labels are assigned to each feature in order to plot them\n",
    "fig = plt.figure()\n",
    "ax = fig.add_subplot(111)\n",
    "\n",
    "# plot a cluster one by one\n",
    "for label in colors_per_class:\n",
    "    \n",
    "    if label != '8':\n",
    "        # find all indices of the current label\n",
    "        indices = [i for i, l in enumerate(tgt_label_2) if str(l) == label]\n",
    "        # use the indices of the current label to index the corresponding feature embeddings\n",
    "        current_tx = np.take(tx_tgt, indices)\n",
    "        current_ty = np.take(ty_tgt, indices)\n",
    "    \n",
    "        # add a scatter plot with the corresponding color and label\n",
    "        ax.scatter(current_tx, current_ty, marker=marker[0], c=colors_per_class[label], label=label)\n",
    "    else:\n",
    "        indices = [i for i, l in enumerate(tgt_label_2) if str(l) == label]\n",
    "        # use the indices of the current label to index the corresponding feature embeddings\n",
    "        current_tx = np.take(tx_tgt, indices)\n",
    "        current_ty = np.take(ty_tgt, indices)\n",
    "    \n",
    "        # add a scatter plot with the corresponding color and label\n",
    "        ax.scatter(current_tx, current_ty, marker=marker[1], c=colors_per_class[label], label=label)\n",
    "        \n",
    "\n",
    "    \n",
    "# build a legend using the labels we set previously\n",
    "ax.legend(loc='best')\n",
    "# finally, show the plot\n",
    "plt.show()"
   ]
  },
  {
   "cell_type": "code",
   "execution_count": 71,
   "id": "0d881a28",
   "metadata": {},
   "outputs": [
    {
     "data": {
      "text/plain": [
       "((2326,), (2317,))"
      ]
     },
     "execution_count": 71,
     "metadata": {},
     "output_type": "execute_result"
    }
   ],
   "source": [
    "tgt_label_1.shape, tgt_label_2.shape"
   ]
  },
  {
   "cell_type": "code",
   "execution_count": 76,
   "id": "fc64a27e",
   "metadata": {},
   "outputs": [
    {
     "data": {
      "image/png": "[encoded data removed]",
      "text/plain": [
       "<Figure size 432x288 with 1 Axes>"
      ]
     },
     "metadata": {
      "needs_background": "light"
     },
     "output_type": "display_data"
    }
   ],
   "source": [
    "# plot both graphs since bs=2\n",
    "colors_per_class = {'0': 'r', '1': 'g', '2': 'b',\n",
    "          '3':'c', '4': 'm', '5': 'y',\n",
    "                    '6':'k', '7':'pink'}\n",
    "\n",
    "colors_per_class = {'0': 'r', '1': 'g', '2': 'b',\n",
    "          '3':'c'}\n",
    "\n",
    "labels = []\n",
    "\n",
    "# need to know what labels are assigned to each feature in order to plot them\n",
    "fig = plt.figure()\n",
    "ax = fig.add_subplot(111)\n",
    "\n",
    "\n",
    "# plot a cluster one by one\n",
    "for label in colors_per_class:\n",
    "    # find all indices of the current label\n",
    "    indices = [i for i, l in enumerate(tgt_label_1) if str(l) == label]\n",
    "    # use the indices of the current label to index the corresponding feature embeddings\n",
    "    current_tx = np.take(tx_tgt, indices)\n",
    "    current_ty = np.take(ty_tgt, indices)\n",
    "    \n",
    "#     import pdb; pdb.set_trace()\n",
    "\n",
    "    # add a scatter plot with the corresponding color and label\n",
    "    ax.scatter(current_tx, current_ty, c=colors_per_class[label], label=label)\n",
    "    \n",
    "    \n",
    "# build a legend using the labels we set previously\n",
    "ax.legend(loc='best')\n",
    "# finally, show the plot\n",
    "plt.show()"
   ]
  },
  {
   "cell_type": "markdown",
   "id": "192df49d",
   "metadata": {},
   "source": [
    "## plot memory embeddings"
   ]
  },
  {
   "cell_type": "code",
   "execution_count": null,
   "id": "bef36e05",
   "metadata": {},
   "outputs": [],
   "source": [
    "# scale and move the coordinates so they fit [0; 1] range\n",
    "\n",
    "def scale_to_01_range(x):\n",
    "\n",
    "    # compute the distribution range\n",
    "    value_range = (np.max(x) - np.min(x))\n",
    "\n",
    "   # move the distribution so that it starts from zero\n",
    "   # by extracting the minimal value from all its values\n",
    "    starts_from_zero = x - np.min(x)\n",
    "    # make the distribution fit [0; 1] by dividing by its range\n",
    "\n",
    "    return starts_from_zero / value_range"
   ]
  },
  {
   "cell_type": "code",
   "execution_count": null,
   "id": "38e26510",
   "metadata": {},
   "outputs": [],
   "source": [
    "# w/o positional update\n",
    "embeddings = torch.load('exps/200epochs/r50_uda_multi_scale_multi_layer_memory_size_40/keys0169.pt')\n",
    "embeddings_np = embeddings.cpu().numpy()\n",
    "# perplexity: how to balance between local/global aspects of your data\n",
    "# it is also about the number of close neighbors each point has\n",
    "tsne = TSNE(n_components=2, perplexity=2).fit_transform(embeddings_np)\n",
    "\n",
    "tx = tsne[:, 0]\n",
    "ty = tsne[:, 1]\n",
    "tx = scale_to_01_range(tx)\n",
    "ty = scale_to_01_range(ty)\n",
    "\n",
    "# need to know what labels are assigned to each feature in order to plot them\n",
    "fig = plt.figure()\n",
    "ax = fig.add_subplot(111)\n",
    "\n",
    "# add a scatter plot with the corresponding color and label\n",
    "ax.scatter(tx, ty)\n",
    "plt.show()"
   ]
  },
  {
   "cell_type": "code",
   "execution_count": null,
   "id": "66aaa0ec",
   "metadata": {},
   "outputs": [],
   "source": [
    "# w/o positional update\n",
    "embeddings = torch.load('exps/200epochs/r50_uda_multi_scale_multi_layer_memory_partitioned/keys0169.pt')\n",
    "embeddings_np = embeddings.cpu().numpy()\n",
    "# perplexity: how to balance between local/global aspects of your data\n",
    "# it is also about the number of close neighbors each point has\n",
    "tsne = TSNE(n_components=2, perplexity=2).fit_transform(embeddings_np)\n",
    "\n",
    "tx = tsne[:, 0]\n",
    "ty = tsne[:, 1]\n",
    "tx = scale_to_01_range(tx)\n",
    "ty = scale_to_01_range(ty)\n",
    "\n",
    "# need to know what labels are assigned to each feature in order to plot them\n",
    "fig = plt.figure()\n",
    "ax = fig.add_subplot(111)\n",
    "\n",
    "# add a scatter plot with the corresponding color and label\n",
    "ax.scatter(tx, ty)\n",
    "plt.show()"
   ]
  },
  {
   "cell_type": "code",
   "execution_count": null,
   "id": "0bd222e5",
   "metadata": {},
   "outputs": [],
   "source": [
    "# colors_per_class = {'1': np.array([0.000, 0.447, 0.741]), '2': [0.850, 0.325, 0.098], '3': [0.929, 0.694, 0.125],\n",
    "#           '4': [0.494, 0.184, 0.556], '5': [0.466, 0.674, 0.188], '6': [0.301, 0.745, 0.933],\n",
    "#                     '7':[0.453, 0.233, 0.763], '8':[0.333, 0.674, 0.000]}\n",
    "\n",
    "\n",
    "colors_per_class = ['r', 'g', 'b', 'c', 'm', 'y', 'k', 'pink', 'orange']\n",
    "\n",
    "\n",
    "\n",
    "# supposedly this list should indicate the class id for each sample, but here we have a set\n",
    "labels = ['1','2','3','4','5','6','7','8']"
   ]
  }
 ],
 "metadata": {
  "kernelspec": {
   "display_name": "deformable_detr",
   "language": "python",
   "name": "deformable_detr"
  },
  "language_info": {
   "codemirror_mode": {
    "name": "ipython",
    "version": 3
   },
   "file_extension": ".py",
   "mimetype": "text/x-python",
   "name": "python",
   "nbconvert_exporter": "python",
   "pygments_lexer": "ipython3",
   "version": "3.9.12"
  }
 },
 "nbformat": 4,
 "nbformat_minor": 5
}
